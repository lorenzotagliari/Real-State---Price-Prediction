{
 "cells": [
  {
   "cell_type": "code",
   "execution_count": null,
   "metadata": {},
   "outputs": [],
   "source": [
    "# pip install bs4\n",
    "# pip install requests"
   ]
  },
  {
   "cell_type": "code",
   "execution_count": null,
   "metadata": {},
   "outputs": [],
   "source": []
  },
  {
   "cell_type": "code",
   "execution_count": 2,
   "metadata": {},
   "outputs": [],
   "source": [
    "import requests # Requisição (acessar o site)\n",
    "from bs4 import BeautifulSoup as bs # Tratar / Extrair dados html\n",
    "import pandas as pd # Deixar a base estruturada\n",
    "from selenium import webdriver\n",
    "from selenium.webdriver.common.keys import Keys\n",
    "from selenium.webdriver.common.by import By\n",
    "import time\n"
   ]
  },
  {
   "cell_type": "code",
   "execution_count": null,
   "metadata": {},
   "outputs": [],
   "source": []
  },
  {
   "cell_type": "code",
   "execution_count": null,
   "metadata": {},
   "outputs": [],
   "source": []
  },
  {
   "cell_type": "raw",
   "metadata": {},
   "source": [
    "resposta = requests.get('https://www.auxiliadorapredial.com.br/comprar/residencial/sp+sao-paulo?tipoImovel=Apartamento&page=1',headers = headers)"
   ]
  },
  {
   "cell_type": "raw",
   "metadata": {},
   "source": [
    "soup = bs(resposta.text, 'html.parser')"
   ]
  },
  {
   "cell_type": "code",
   "execution_count": null,
   "metadata": {},
   "outputs": [],
   "source": []
  },
  {
   "cell_type": "markdown",
   "metadata": {
    "jp-MarkdownHeadingCollapsed": true,
    "tags": []
   },
   "source": [
    "## Entrando na página inicial do site com o Selenium "
   ]
  },
  {
   "cell_type": "code",
   "execution_count": 2,
   "metadata": {},
   "outputs": [],
   "source": [
    "url_site = 'https://www.auxiliadorapredial.com.br/'"
   ]
  },
  {
   "cell_type": "code",
   "execution_count": 3,
   "metadata": {},
   "outputs": [],
   "source": [
    "driver = webdriver.Edge()"
   ]
  },
  {
   "cell_type": "code",
   "execution_count": 4,
   "metadata": {},
   "outputs": [],
   "source": [
    "driver.get(url_site)"
   ]
  },
  {
   "cell_type": "code",
   "execution_count": null,
   "metadata": {},
   "outputs": [],
   "source": []
  },
  {
   "cell_type": "code",
   "execution_count": 5,
   "metadata": {
    "tags": []
   },
   "outputs": [],
   "source": [
    "#Abrir lista de tipos de imóveis\n",
    "tipo_imovel =driver.find_element('xpath','/html/body/div[1]/div[2]/div[2]/div[1]/div/div/div/form/div[1]')\n",
    "time.sleep(2)\n",
    "tipo_imovel.click()"
   ]
  },
  {
   "cell_type": "code",
   "execution_count": 6,
   "metadata": {
    "tags": []
   },
   "outputs": [],
   "source": [
    "#Clicar sobre o tipo de imóvel que queremos. Neste caso, 'Apartamento'\n",
    "driver.find_element('xpath','//*[@id=\"menu-\"]/div[3]/ul/li[4]').click()"
   ]
  },
  {
   "cell_type": "code",
   "execution_count": 7,
   "metadata": {
    "tags": []
   },
   "outputs": [],
   "source": [
    "#Localizando o campo de pesquisa da cidade e inserindo o nome da cidade\n",
    "cidade = driver.find_element('xpath','/html/body/div[1]/div[2]/div[2]/div[1]/div/div/div/form/div[2]/div/div/div/input')\n"
   ]
  },
  {
   "cell_type": "code",
   "execution_count": 8,
   "metadata": {},
   "outputs": [],
   "source": [
    "#Inserindo no campo de pesquisa a cidade\n",
    "cidade.send_keys('Florianópolis - SC')"
   ]
  },
  {
   "cell_type": "code",
   "execution_count": 9,
   "metadata": {},
   "outputs": [],
   "source": [
    "#Clicar no botão de busca\n",
    "driver.find_element('xpath','/html/body/div[1]/div[2]/div[2]/div[1]/div/div/div/form/div[4]/button').click()"
   ]
  },
  {
   "cell_type": "code",
   "execution_count": 10,
   "metadata": {},
   "outputs": [],
   "source": [
    "#Achando o elemento que contém os botões para navegar entre as páginas resultantes da pesquisa\n",
    "number_pages = driver.find_element('xpath','/html/body/div[1]/div[2]/div/div/div[4]/nav/ul')"
   ]
  },
  {
   "cell_type": "code",
   "execution_count": 11,
   "metadata": {},
   "outputs": [],
   "source": [
    "#Número total de páginas que serão extraídas as informações\n",
    "last_page = number_pages.text.split('\\n')[-1]"
   ]
  },
  {
   "cell_type": "code",
   "execution_count": 12,
   "metadata": {},
   "outputs": [],
   "source": [
    "#Transformando a string obtida do elemento 'last_page' em tipo inteiro\n",
    "last_page_int = int(last_page)\n"
   ]
  },
  {
   "cell_type": "code",
   "execution_count": 13,
   "metadata": {},
   "outputs": [
    {
     "data": {
      "text/plain": [
       "51"
      ]
     },
     "execution_count": 13,
     "metadata": {},
     "output_type": "execute_result"
    }
   ],
   "source": [
    "last_page_int"
   ]
  },
  {
   "cell_type": "markdown",
   "metadata": {},
   "source": [
    "## Webscrapping function "
   ]
  },
  {
   "cell_type": "code",
   "execution_count": 14,
   "metadata": {},
   "outputs": [],
   "source": [
    "def info_apartments(apartamentos,base_imoveis):\n",
    "    for index,apartamento in enumerate(apartamentos):\n",
    "        \n",
    "        try:\n",
    "            reference = apartamento.find('div',{'class':'ref'}\n",
    "            ).text.strip()\n",
    "        except:\n",
    "            reference = None\n",
    "        \n",
    "        try:\n",
    "            preco = apartamento.find(\n",
    "                            'span', {'class': 'fontSize16 bold green'}\n",
    "            ).text.strip()\n",
    "        except:\n",
    "            preco = None\n",
    "        #print(descricao.text.strip())\n",
    "\n",
    "        try:\n",
    "            endereco =  apartamento.find(\n",
    "                            'div', {'class': 'RuaContainer'}\n",
    "            ).text.strip()\n",
    "        except:\n",
    "            endereco = None\n",
    "        #print(endereco.text.strip())\n",
    "\n",
    "        try:\n",
    "            bairro = apartamento.find(\n",
    "                    'div', {'class': 'Location'}\n",
    "            ).text.strip()\n",
    "        except:\n",
    "            bairro = None\n",
    "        #print(preco.text.strip())\n",
    "        #print('\\n\\n\\n\\n')\n",
    "        metragem = None\n",
    "        quartos = None\n",
    "        garagens = None\n",
    "        banheiros = None\n",
    "        try:\n",
    "            detalhes = apartamento.find(\n",
    "                        'div',{'class': 'Details'}\n",
    "                    )\n",
    "            if detalhes is not None:\n",
    "                tags = detalhes.find_all('img')\n",
    "                values = detalhes.find_all('span')\n",
    "                if tags and values:\n",
    "                    for tag,value in zip(tags,values):\n",
    "                                #print(tag['alt'],'\\n',value.text)\n",
    "                            if tag['alt'] == 'Metragem':\n",
    "                                    metragem = value.text.strip()\n",
    "                            elif tag['alt'] == 'Quartos':\n",
    "                                    quartos = value.text.strip()\n",
    "                            elif tag['alt'] == 'Garagens':\n",
    "                                    garagens = value.text.strip()\n",
    "                            elif tag['alt'] == 'Banheiros':\n",
    "                                    banheiros = value.text.strip()\n",
    "        except Exception as e:\n",
    "            print(f\"Erro ao extrair detalhes do apartamento: \\n{e}\")\n",
    "     \n",
    "     \n",
    "        nova_linha = {'reference':reference,'preco': preco, 'endereco': endereco, 'localizacao': bairro,'metragem':metragem,'quartos':quartos,\n",
    "                      'garagens':garagens,'banheiro':banheiros}\n",
    "        ## Adicionando a nova linha ao DataFrame\n",
    "        base_imoveis = base_imoveis.append(nova_linha, ignore_index=True)\n",
    "    return base_imoveis"
   ]
  },
  {
   "cell_type": "code",
   "execution_count": null,
   "metadata": {},
   "outputs": [],
   "source": []
  },
  {
   "cell_type": "markdown",
   "metadata": {},
   "source": [
    "## Empty Dataframe"
   ]
  },
  {
   "cell_type": "code",
   "execution_count": 15,
   "metadata": {},
   "outputs": [],
   "source": [
    "features = ['reference','preco','endereco','localizacao','metragem','quartos','garagens','banheiro']\n",
    "base_imoveis = pd.DataFrame(columns=features)"
   ]
  },
  {
   "cell_type": "code",
   "execution_count": 16,
   "metadata": {},
   "outputs": [
    {
     "data": {
      "text/html": [
       "<div>\n",
       "<style scoped>\n",
       "    .dataframe tbody tr th:only-of-type {\n",
       "        vertical-align: middle;\n",
       "    }\n",
       "\n",
       "    .dataframe tbody tr th {\n",
       "        vertical-align: top;\n",
       "    }\n",
       "\n",
       "    .dataframe thead th {\n",
       "        text-align: right;\n",
       "    }\n",
       "</style>\n",
       "<table border=\"1\" class=\"dataframe\">\n",
       "  <thead>\n",
       "    <tr style=\"text-align: right;\">\n",
       "      <th></th>\n",
       "      <th>reference</th>\n",
       "      <th>preco</th>\n",
       "      <th>endereco</th>\n",
       "      <th>localizacao</th>\n",
       "      <th>metragem</th>\n",
       "      <th>quartos</th>\n",
       "      <th>garagens</th>\n",
       "      <th>banheiro</th>\n",
       "    </tr>\n",
       "  </thead>\n",
       "  <tbody>\n",
       "  </tbody>\n",
       "</table>\n",
       "</div>"
      ],
      "text/plain": [
       "Empty DataFrame\n",
       "Columns: [reference, preco, endereco, localizacao, metragem, quartos, garagens, banheiro]\n",
       "Index: []"
      ]
     },
     "execution_count": 16,
     "metadata": {},
     "output_type": "execute_result"
    }
   ],
   "source": [
    "base_imoveis"
   ]
  },
  {
   "cell_type": "markdown",
   "metadata": {},
   "source": [
    "## Executing the code \n",
    "Loop function that access each resulting page from the apartment's search at a specified city"
   ]
  },
  {
   "cell_type": "code",
   "execution_count": 17,
   "metadata": {},
   "outputs": [],
   "source": [
    "user_agent = 'webscrappin/1.0'"
   ]
  },
  {
   "cell_type": "code",
   "execution_count": 18,
   "metadata": {},
   "outputs": [],
   "source": [
    "cidade ='sc+florianopolis'"
   ]
  },
  {
   "cell_type": "code",
   "execution_count": 19,
   "metadata": {},
   "outputs": [],
   "source": [
    "headers = {\n",
    "                \"User-Agent\": user_agent\n",
    "            } \n"
   ]
  },
  {
   "cell_type": "code",
   "execution_count": 21,
   "metadata": {
    "tags": []
   },
   "outputs": [
    {
     "name": "stdout",
     "output_type": "stream",
     "text": [
      "Erro na requisição de acesso a página 1: ('Connection aborted.', ConnectionResetError(10054, 'Foi forçado o cancelamento de uma conexão existente pelo host remoto', None, 10054, None))\n",
      "Página 1 processada.\n",
      "\n",
      "Erro na requisição de acesso a página 2: ('Connection aborted.', ConnectionResetError(10054, 'Foi forçado o cancelamento de uma conexão existente pelo host remoto', None, 10054, None))\n",
      "Página 2 processada.\n",
      "\n",
      "Página 3 processada.\n",
      "\n",
      "Erro na requisição de acesso a página 4: ('Connection aborted.', ConnectionResetError(10054, 'Foi forçado o cancelamento de uma conexão existente pelo host remoto', None, 10054, None))\n",
      "Erro na requisição de acesso a página 4: ('Connection aborted.', ConnectionResetError(10054, 'Foi forçado o cancelamento de uma conexão existente pelo host remoto', None, 10054, None))\n",
      "Erro na requisição de acesso a página 4: ('Connection aborted.', ConnectionResetError(10054, 'Foi forçado o cancelamento de uma conexão existente pelo host remoto', None, 10054, None))\n",
      "Erro na requisição de acesso a página 4: ('Connection aborted.', ConnectionResetError(10054, 'Foi forçado o cancelamento de uma conexão existente pelo host remoto', None, 10054, None))\n",
      "Erro na requisição de acesso a página 4: ('Connection aborted.', ConnectionResetError(10054, 'Foi forçado o cancelamento de uma conexão existente pelo host remoto', None, 10054, None))\n",
      "Página 4 processada.\n",
      "\n",
      "Erro na requisição de acesso a página 5: ('Connection aborted.', ConnectionResetError(10054, 'Foi forçado o cancelamento de uma conexão existente pelo host remoto', None, 10054, None))\n",
      "Erro na requisição de acesso a página 5: ('Connection aborted.', ConnectionResetError(10054, 'Foi forçado o cancelamento de uma conexão existente pelo host remoto', None, 10054, None))\n",
      "Erro na requisição de acesso a página 5: ('Connection aborted.', ConnectionResetError(10054, 'Foi forçado o cancelamento de uma conexão existente pelo host remoto', None, 10054, None))\n",
      "Página 5 processada.\n",
      "\n",
      "Erro na requisição de acesso a página 6: ('Connection aborted.', ConnectionResetError(10054, 'Foi forçado o cancelamento de uma conexão existente pelo host remoto', None, 10054, None))\n",
      "Erro na requisição de acesso a página 6: ('Connection aborted.', ConnectionResetError(10054, 'Foi forçado o cancelamento de uma conexão existente pelo host remoto', None, 10054, None))\n",
      "Erro na requisição de acesso a página 6: ('Connection aborted.', ConnectionResetError(10054, 'Foi forçado o cancelamento de uma conexão existente pelo host remoto', None, 10054, None))\n",
      "Página 6 processada.\n",
      "\n",
      "Página 7 processada.\n",
      "\n",
      "Erro na requisição de acesso a página 8: ('Connection aborted.', ConnectionResetError(10054, 'Foi forçado o cancelamento de uma conexão existente pelo host remoto', None, 10054, None))\n",
      "Página 8 processada.\n",
      "\n",
      "Erro na requisição de acesso a página 9: ('Connection aborted.', ConnectionResetError(10054, 'Foi forçado o cancelamento de uma conexão existente pelo host remoto', None, 10054, None))\n",
      "Erro na requisição de acesso a página 9: ('Connection aborted.', ConnectionResetError(10054, 'Foi forçado o cancelamento de uma conexão existente pelo host remoto', None, 10054, None))\n",
      "Erro na requisição de acesso a página 9: ('Connection aborted.', ConnectionResetError(10054, 'Foi forçado o cancelamento de uma conexão existente pelo host remoto', None, 10054, None))\n",
      "Erro na requisição de acesso a página 9: ('Connection aborted.', ConnectionResetError(10054, 'Foi forçado o cancelamento de uma conexão existente pelo host remoto', None, 10054, None))\n",
      "Página 9 processada.\n",
      "\n",
      "Página 10 processada.\n",
      "\n",
      "Erro na requisição de acesso a página 11: ('Connection aborted.', ConnectionResetError(10054, 'Foi forçado o cancelamento de uma conexão existente pelo host remoto', None, 10054, None))\n",
      "Erro na requisição de acesso a página 11: ('Connection aborted.', ConnectionResetError(10054, 'Foi forçado o cancelamento de uma conexão existente pelo host remoto', None, 10054, None))\n",
      "Erro na requisição de acesso a página 11: ('Connection aborted.', ConnectionResetError(10054, 'Foi forçado o cancelamento de uma conexão existente pelo host remoto', None, 10054, None))\n",
      "Página 11 processada.\n",
      "\n",
      "Erro na requisição de acesso a página 12: ('Connection aborted.', ConnectionResetError(10054, 'Foi forçado o cancelamento de uma conexão existente pelo host remoto', None, 10054, None))\n",
      "Página 12 processada.\n",
      "\n",
      "Erro na requisição de acesso a página 13: ('Connection aborted.', ConnectionResetError(10054, 'Foi forçado o cancelamento de uma conexão existente pelo host remoto', None, 10054, None))\n",
      "Erro na requisição de acesso a página 13: ('Connection aborted.', ConnectionResetError(10054, 'Foi forçado o cancelamento de uma conexão existente pelo host remoto', None, 10054, None))\n",
      "Página 13 processada.\n",
      "\n",
      "Erro na requisição de acesso a página 14: ('Connection aborted.', ConnectionResetError(10054, 'Foi forçado o cancelamento de uma conexão existente pelo host remoto', None, 10054, None))\n",
      "Erro na requisição de acesso a página 14: ('Connection aborted.', ConnectionResetError(10054, 'Foi forçado o cancelamento de uma conexão existente pelo host remoto', None, 10054, None))\n",
      "Erro na requisição de acesso a página 14: ('Connection aborted.', ConnectionResetError(10054, 'Foi forçado o cancelamento de uma conexão existente pelo host remoto', None, 10054, None))\n",
      "Erro na requisição de acesso a página 14: ('Connection aborted.', ConnectionResetError(10054, 'Foi forçado o cancelamento de uma conexão existente pelo host remoto', None, 10054, None))\n",
      "Erro na requisição de acesso a página 14: ('Connection aborted.', ConnectionResetError(10054, 'Foi forçado o cancelamento de uma conexão existente pelo host remoto', None, 10054, None))\n",
      "Página 14 processada.\n",
      "\n",
      "Página 15 processada.\n",
      "\n",
      "Erro na requisição de acesso a página 16: ('Connection aborted.', ConnectionResetError(10054, 'Foi forçado o cancelamento de uma conexão existente pelo host remoto', None, 10054, None))\n",
      "Erro na requisição de acesso a página 16: ('Connection aborted.', ConnectionResetError(10054, 'Foi forçado o cancelamento de uma conexão existente pelo host remoto', None, 10054, None))\n",
      "Erro na requisição de acesso a página 16: ('Connection aborted.', ConnectionResetError(10054, 'Foi forçado o cancelamento de uma conexão existente pelo host remoto', None, 10054, None))\n",
      "Erro na requisição de acesso a página 16: ('Connection aborted.', ConnectionResetError(10054, 'Foi forçado o cancelamento de uma conexão existente pelo host remoto', None, 10054, None))\n",
      "Página 16 processada.\n",
      "\n",
      "Página 17 processada.\n",
      "\n",
      "Erro na requisição de acesso a página 18: ('Connection aborted.', ConnectionResetError(10054, 'Foi forçado o cancelamento de uma conexão existente pelo host remoto', None, 10054, None))\n",
      "Erro na requisição de acesso a página 18: ('Connection aborted.', ConnectionResetError(10054, 'Foi forçado o cancelamento de uma conexão existente pelo host remoto', None, 10054, None))\n",
      "Erro na requisição de acesso a página 18: ('Connection aborted.', ConnectionResetError(10054, 'Foi forçado o cancelamento de uma conexão existente pelo host remoto', None, 10054, None))\n",
      "Erro na requisição de acesso a página 18: ('Connection aborted.', ConnectionResetError(10054, 'Foi forçado o cancelamento de uma conexão existente pelo host remoto', None, 10054, None))\n",
      "Página 18 processada.\n",
      "\n",
      "Página 19 processada.\n",
      "\n",
      "Erro na requisição de acesso a página 20: ('Connection aborted.', ConnectionResetError(10054, 'Foi forçado o cancelamento de uma conexão existente pelo host remoto', None, 10054, None))\n",
      "Página 20 processada.\n",
      "\n",
      "Página 21 processada.\n",
      "\n",
      "Erro na requisição de acesso a página 22: ('Connection aborted.', ConnectionResetError(10054, 'Foi forçado o cancelamento de uma conexão existente pelo host remoto', None, 10054, None))\n",
      "Página 22 processada.\n",
      "\n",
      "Página 23 processada.\n",
      "\n",
      "Erro na requisição de acesso a página 24: ('Connection aborted.', ConnectionResetError(10054, 'Foi forçado o cancelamento de uma conexão existente pelo host remoto', None, 10054, None))\n",
      "Erro na requisição de acesso a página 24: ('Connection aborted.', ConnectionResetError(10054, 'Foi forçado o cancelamento de uma conexão existente pelo host remoto', None, 10054, None))\n",
      "Erro na requisição de acesso a página 24: ('Connection aborted.', ConnectionResetError(10054, 'Foi forçado o cancelamento de uma conexão existente pelo host remoto', None, 10054, None))\n",
      "Erro na requisição de acesso a página 24: ('Connection aborted.', ConnectionResetError(10054, 'Foi forçado o cancelamento de uma conexão existente pelo host remoto', None, 10054, None))\n",
      "Página 24 processada.\n",
      "\n",
      "Erro na requisição de acesso a página 25: ('Connection aborted.', ConnectionResetError(10054, 'Foi forçado o cancelamento de uma conexão existente pelo host remoto', None, 10054, None))\n",
      "Erro na requisição de acesso a página 25: ('Connection aborted.', ConnectionResetError(10054, 'Foi forçado o cancelamento de uma conexão existente pelo host remoto', None, 10054, None))\n",
      "Erro na requisição de acesso a página 25: ('Connection aborted.', ConnectionResetError(10054, 'Foi forçado o cancelamento de uma conexão existente pelo host remoto', None, 10054, None))\n",
      "Erro na requisição de acesso a página 25: ('Connection aborted.', ConnectionResetError(10054, 'Foi forçado o cancelamento de uma conexão existente pelo host remoto', None, 10054, None))\n",
      "Erro na requisição de acesso a página 25: ('Connection aborted.', ConnectionResetError(10054, 'Foi forçado o cancelamento de uma conexão existente pelo host remoto', None, 10054, None))\n",
      "Página 25 processada.\n",
      "\n",
      "Erro na requisição de acesso a página 26: ('Connection aborted.', ConnectionResetError(10054, 'Foi forçado o cancelamento de uma conexão existente pelo host remoto', None, 10054, None))\n",
      "Página 26 processada.\n",
      "\n",
      "Página 27 processada.\n",
      "\n",
      "Página 28 processada.\n",
      "\n",
      "Página 29 processada.\n",
      "\n",
      "Página 30 processada.\n",
      "\n",
      "Erro na requisição de acesso a página 31: ('Connection aborted.', ConnectionResetError(10054, 'Foi forçado o cancelamento de uma conexão existente pelo host remoto', None, 10054, None))\n",
      "Página 31 processada.\n",
      "\n",
      "Página 32 processada.\n",
      "\n",
      "Página 33 processada.\n",
      "\n",
      "Erro na requisição de acesso a página 34: ('Connection aborted.', ConnectionResetError(10054, 'Foi forçado o cancelamento de uma conexão existente pelo host remoto', None, 10054, None))\n",
      "Erro na requisição de acesso a página 34: ('Connection aborted.', ConnectionResetError(10054, 'Foi forçado o cancelamento de uma conexão existente pelo host remoto', None, 10054, None))\n",
      "Erro na requisição de acesso a página 34: ('Connection aborted.', ConnectionResetError(10054, 'Foi forçado o cancelamento de uma conexão existente pelo host remoto', None, 10054, None))\n",
      "Página 34 processada.\n",
      "\n",
      "Erro na requisição de acesso a página 35: ('Connection aborted.', ConnectionResetError(10054, 'Foi forçado o cancelamento de uma conexão existente pelo host remoto', None, 10054, None))\n",
      "Erro na requisição de acesso a página 35: ('Connection aborted.', ConnectionResetError(10054, 'Foi forçado o cancelamento de uma conexão existente pelo host remoto', None, 10054, None))\n",
      "Erro na requisição de acesso a página 35: ('Connection aborted.', ConnectionResetError(10054, 'Foi forçado o cancelamento de uma conexão existente pelo host remoto', None, 10054, None))\n",
      "Erro na requisição de acesso a página 35: ('Connection aborted.', ConnectionResetError(10054, 'Foi forçado o cancelamento de uma conexão existente pelo host remoto', None, 10054, None))\n",
      "Erro na requisição de acesso a página 35: ('Connection aborted.', ConnectionResetError(10054, 'Foi forçado o cancelamento de uma conexão existente pelo host remoto', None, 10054, None))\n",
      "Página 35 processada.\n",
      "\n",
      "Erro na requisição de acesso a página 36: ('Connection aborted.', ConnectionResetError(10054, 'Foi forçado o cancelamento de uma conexão existente pelo host remoto', None, 10054, None))\n",
      "Erro na requisição de acesso a página 36: ('Connection aborted.', ConnectionResetError(10054, 'Foi forçado o cancelamento de uma conexão existente pelo host remoto', None, 10054, None))\n",
      "Erro na requisição de acesso a página 36: ('Connection aborted.', ConnectionResetError(10054, 'Foi forçado o cancelamento de uma conexão existente pelo host remoto', None, 10054, None))\n",
      "Página 36 processada.\n",
      "\n",
      "Erro na requisição de acesso a página 37: ('Connection aborted.', ConnectionResetError(10054, 'Foi forçado o cancelamento de uma conexão existente pelo host remoto', None, 10054, None))\n",
      "Erro na requisição de acesso a página 37: ('Connection aborted.', ConnectionResetError(10054, 'Foi forçado o cancelamento de uma conexão existente pelo host remoto', None, 10054, None))\n",
      "Erro na requisição de acesso a página 37: ('Connection aborted.', ConnectionResetError(10054, 'Foi forçado o cancelamento de uma conexão existente pelo host remoto', None, 10054, None))\n",
      "Erro na requisição de acesso a página 37: ('Connection aborted.', ConnectionResetError(10054, 'Foi forçado o cancelamento de uma conexão existente pelo host remoto', None, 10054, None))\n",
      "Página 37 processada.\n",
      "\n",
      "Erro na requisição de acesso a página 38: ('Connection aborted.', ConnectionResetError(10054, 'Foi forçado o cancelamento de uma conexão existente pelo host remoto', None, 10054, None))\n",
      "Página 38 processada.\n",
      "\n",
      "Erro na requisição de acesso a página 39: ('Connection aborted.', ConnectionResetError(10054, 'Foi forçado o cancelamento de uma conexão existente pelo host remoto', None, 10054, None))\n",
      "Página 39 processada.\n",
      "\n",
      "Erro na requisição de acesso a página 40: ('Connection aborted.', ConnectionResetError(10054, 'Foi forçado o cancelamento de uma conexão existente pelo host remoto', None, 10054, None))\n",
      "Erro na requisição de acesso a página 40: ('Connection aborted.', ConnectionResetError(10054, 'Foi forçado o cancelamento de uma conexão existente pelo host remoto', None, 10054, None))\n",
      "Erro na requisição de acesso a página 40: ('Connection aborted.', ConnectionResetError(10054, 'Foi forçado o cancelamento de uma conexão existente pelo host remoto', None, 10054, None))\n",
      "Erro na requisição de acesso a página 40: ('Connection aborted.', ConnectionResetError(10054, 'Foi forçado o cancelamento de uma conexão existente pelo host remoto', None, 10054, None))\n",
      "Erro na requisição de acesso a página 40: ('Connection aborted.', ConnectionResetError(10054, 'Foi forçado o cancelamento de uma conexão existente pelo host remoto', None, 10054, None))\n",
      "Página 40 processada.\n",
      "\n",
      "Página 41 processada.\n",
      "\n",
      "Erro na requisição de acesso a página 42: ('Connection aborted.', ConnectionResetError(10054, 'Foi forçado o cancelamento de uma conexão existente pelo host remoto', None, 10054, None))\n",
      "Erro na requisição de acesso a página 42: ('Connection aborted.', ConnectionResetError(10054, 'Foi forçado o cancelamento de uma conexão existente pelo host remoto', None, 10054, None))\n",
      "Erro na requisição de acesso a página 42: ('Connection aborted.', ConnectionResetError(10054, 'Foi forçado o cancelamento de uma conexão existente pelo host remoto', None, 10054, None))\n",
      "Erro na requisição de acesso a página 42: ('Connection aborted.', ConnectionResetError(10054, 'Foi forçado o cancelamento de uma conexão existente pelo host remoto', None, 10054, None))\n",
      "Página 42 processada.\n",
      "\n",
      "Erro na requisição de acesso a página 43: ('Connection aborted.', ConnectionResetError(10054, 'Foi forçado o cancelamento de uma conexão existente pelo host remoto', None, 10054, None))\n",
      "Erro na requisição de acesso a página 43: ('Connection aborted.', ConnectionResetError(10054, 'Foi forçado o cancelamento de uma conexão existente pelo host remoto', None, 10054, None))\n",
      "Página 43 processada.\n",
      "\n",
      "Erro na requisição de acesso a página 44: ('Connection aborted.', ConnectionResetError(10054, 'Foi forçado o cancelamento de uma conexão existente pelo host remoto', None, 10054, None))\n",
      "Erro na requisição de acesso a página 44: ('Connection aborted.', ConnectionResetError(10054, 'Foi forçado o cancelamento de uma conexão existente pelo host remoto', None, 10054, None))\n",
      "Erro na requisição de acesso a página 44: ('Connection aborted.', ConnectionResetError(10054, 'Foi forçado o cancelamento de uma conexão existente pelo host remoto', None, 10054, None))\n",
      "Erro na requisição de acesso a página 44: ('Connection aborted.', ConnectionResetError(10054, 'Foi forçado o cancelamento de uma conexão existente pelo host remoto', None, 10054, None))\n",
      "Erro na requisição de acesso a página 44: ('Connection aborted.', ConnectionResetError(10054, 'Foi forçado o cancelamento de uma conexão existente pelo host remoto', None, 10054, None))\n",
      "Página 44 processada.\n",
      "\n",
      "Erro na requisição de acesso a página 45: ('Connection aborted.', ConnectionResetError(10054, 'Foi forçado o cancelamento de uma conexão existente pelo host remoto', None, 10054, None))\n",
      "Erro na requisição de acesso a página 45: ('Connection aborted.', ConnectionResetError(10054, 'Foi forçado o cancelamento de uma conexão existente pelo host remoto', None, 10054, None))\n",
      "Erro na requisição de acesso a página 45: ('Connection aborted.', ConnectionResetError(10054, 'Foi forçado o cancelamento de uma conexão existente pelo host remoto', None, 10054, None))\n",
      "Erro na requisição de acesso a página 45: ('Connection aborted.', ConnectionResetError(10054, 'Foi forçado o cancelamento de uma conexão existente pelo host remoto', None, 10054, None))\n",
      "Erro na requisição de acesso a página 45: ('Connection aborted.', ConnectionResetError(10054, 'Foi forçado o cancelamento de uma conexão existente pelo host remoto', None, 10054, None))\n",
      "Página 45 processada.\n",
      "\n",
      "Página 46 processada.\n",
      "\n",
      "Página 47 processada.\n",
      "\n",
      "Página 48 processada.\n",
      "\n",
      "Erro na requisição de acesso a página 49: ('Connection aborted.', ConnectionResetError(10054, 'Foi forçado o cancelamento de uma conexão existente pelo host remoto', None, 10054, None))\n",
      "Erro na requisição de acesso a página 49: ('Connection aborted.', ConnectionResetError(10054, 'Foi forçado o cancelamento de uma conexão existente pelo host remoto', None, 10054, None))\n",
      "Erro na requisição de acesso a página 49: ('Connection aborted.', ConnectionResetError(10054, 'Foi forçado o cancelamento de uma conexão existente pelo host remoto', None, 10054, None))\n",
      "Erro na requisição de acesso a página 49: ('Connection aborted.', ConnectionResetError(10054, 'Foi forçado o cancelamento de uma conexão existente pelo host remoto', None, 10054, None))\n",
      "Erro na requisição de acesso a página 49: ('Connection aborted.', ConnectionResetError(10054, 'Foi forçado o cancelamento de uma conexão existente pelo host remoto', None, 10054, None))\n",
      "Página 49 processada.\n",
      "\n",
      "Erro na requisição de acesso a página 50: ('Connection aborted.', ConnectionResetError(10054, 'Foi forçado o cancelamento de uma conexão existente pelo host remoto', None, 10054, None))\n",
      "Página 50 processada.\n",
      "\n",
      "Erro na requisição de acesso a página 51: ('Connection aborted.', ConnectionResetError(10054, 'Foi forçado o cancelamento de uma conexão existente pelo host remoto', None, 10054, None))\n",
      "Página 51 processada.\n",
      "\n"
     ]
    }
   ],
   "source": [
    "    for i in range(1,last_page_int+1):\n",
    "        url = f'https://www.auxiliadorapredial.com.br/comprar/residencial/{cidade}?tipoImovel=Apartamento&page={i}'\n",
    "\n",
    "    # Criar uma nova sessão para cada solicitação\n",
    "        with requests.Session() as session:\n",
    "            # Defina o cabeçalho User-Agent na solicitação\n",
    "            headers = {\n",
    "                \"User-Agent\": user_agent\n",
    "            } \n",
    "\n",
    "            \n",
    "            \n",
    "            attempts = 0\n",
    "            while attempts < 5:\n",
    "                # Tentar fazer a solicitação\n",
    "                try:\n",
    "                    resposta = session.get(url, headers=headers)\n",
    "                    resposta.raise_for_status()  # Lança uma exceção se a resposta for um erro HTTP\n",
    "                    break\n",
    "                    \n",
    "                    \n",
    "                except (requests.RequestException, ConnectionError) as e:\n",
    "                    print(f'Erro na requisição de acesso a página {i}: {e}')\n",
    "                    attempts +=1\n",
    "                    #time.sleep(3)  # Aguarde 5 segundos antes de tentar novamente\n",
    "                    driver.implicitly_wait(2)\n",
    "                    #continue  # Pule para a próxima iteração do loop\n",
    "                    \n",
    "                    \n",
    "                    \n",
    "        if resposta.status_code == 200:\n",
    "            #soup = bs(resposta.text)\n",
    "            soup = bs(resposta.text, 'html.parser')\n",
    "            apartamentos =soup.find_all('div', {'class': \"sc-63846deb-0 iTvqzd\"})\n",
    "            soup_str = str(soup)\n",
    "                    \n",
    "            base_imoveis = info_apartments(apartamentos,base_imoveis)\n",
    "            print(f'Página {i} processada.\\n')\n",
    "            \n",
    "            \n",
    "            \n",
    "            \n",
    "        else:\n",
    "             print(f'Erro ao acessar a página {i}: \\n{resposta.status_code}')\n",
    "                \n",
    "                \n",
    "                \n",
    "    #next_page = number_pages.find_element('xpath','//*[@id=\"contentSide\"]/div[4]/nav/ul/li[9]/button').click()\n",
    "    #print(url)"
   ]
  },
  {
   "cell_type": "code",
   "execution_count": 22,
   "metadata": {},
   "outputs": [
    {
     "data": {
      "text/html": [
       "<div>\n",
       "<style scoped>\n",
       "    .dataframe tbody tr th:only-of-type {\n",
       "        vertical-align: middle;\n",
       "    }\n",
       "\n",
       "    .dataframe tbody tr th {\n",
       "        vertical-align: top;\n",
       "    }\n",
       "\n",
       "    .dataframe thead th {\n",
       "        text-align: right;\n",
       "    }\n",
       "</style>\n",
       "<table border=\"1\" class=\"dataframe\">\n",
       "  <thead>\n",
       "    <tr style=\"text-align: right;\">\n",
       "      <th></th>\n",
       "      <th>reference</th>\n",
       "      <th>preco</th>\n",
       "      <th>endereco</th>\n",
       "      <th>localizacao</th>\n",
       "      <th>metragem</th>\n",
       "      <th>quartos</th>\n",
       "      <th>garagens</th>\n",
       "      <th>banheiro</th>\n",
       "    </tr>\n",
       "  </thead>\n",
       "  <tbody>\n",
       "    <tr>\n",
       "      <th>0</th>\n",
       "      <td>ref: 472082</td>\n",
       "      <td>R$ 900.000</td>\n",
       "      <td>rua dos golfinhos</td>\n",
       "      <td>Ingleses do Rio Vermelho, Florianópolis - SC</td>\n",
       "      <td>61m²</td>\n",
       "      <td>2</td>\n",
       "      <td>1</td>\n",
       "      <td>2</td>\n",
       "    </tr>\n",
       "    <tr>\n",
       "      <th>1</th>\n",
       "      <td>ref: 468398</td>\n",
       "      <td>R$ 850.000</td>\n",
       "      <td>rodovia joão paulo</td>\n",
       "      <td>João Paulo, Florianópolis - SC</td>\n",
       "      <td>68m²</td>\n",
       "      <td>2</td>\n",
       "      <td>1</td>\n",
       "      <td>2</td>\n",
       "    </tr>\n",
       "    <tr>\n",
       "      <th>2</th>\n",
       "      <td>ref: 468996</td>\n",
       "      <td>R$ 1.230.000</td>\n",
       "      <td>rua professor ayrton roberto de oliveira</td>\n",
       "      <td>Itacorubi, Florianópolis - SC</td>\n",
       "      <td>89m²</td>\n",
       "      <td>3</td>\n",
       "      <td>1</td>\n",
       "      <td>2</td>\n",
       "    </tr>\n",
       "    <tr>\n",
       "      <th>3</th>\n",
       "      <td>ref: 465833</td>\n",
       "      <td>R$ 1.338.633</td>\n",
       "      <td>rua das dunas</td>\n",
       "      <td>Ingleses do Rio Vermelho, Florianópolis - SC</td>\n",
       "      <td>117m²</td>\n",
       "      <td>3</td>\n",
       "      <td>2</td>\n",
       "      <td>3</td>\n",
       "    </tr>\n",
       "    <tr>\n",
       "      <th>4</th>\n",
       "      <td>ref: 465834</td>\n",
       "      <td>R$ 1.401.049</td>\n",
       "      <td>rua das dunas</td>\n",
       "      <td>Ingleses do Rio Vermelho, Florianópolis - SC</td>\n",
       "      <td>125m²</td>\n",
       "      <td>3</td>\n",
       "      <td>2</td>\n",
       "      <td>4</td>\n",
       "    </tr>\n",
       "    <tr>\n",
       "      <th>...</th>\n",
       "      <td>...</td>\n",
       "      <td>...</td>\n",
       "      <td>...</td>\n",
       "      <td>...</td>\n",
       "      <td>...</td>\n",
       "      <td>...</td>\n",
       "      <td>...</td>\n",
       "      <td>...</td>\n",
       "    </tr>\n",
       "    <tr>\n",
       "      <th>1524</th>\n",
       "      <td>ref: 446500</td>\n",
       "      <td>R$ 790.000</td>\n",
       "      <td>rua capitão romualdo de barros</td>\n",
       "      <td>Saco dos limões, Florianópolis - SC</td>\n",
       "      <td>63m²</td>\n",
       "      <td>2</td>\n",
       "      <td>1</td>\n",
       "      <td>3</td>\n",
       "    </tr>\n",
       "    <tr>\n",
       "      <th>1525</th>\n",
       "      <td>ref: 446510</td>\n",
       "      <td>R$ 2.300.000</td>\n",
       "      <td>avenida professor othon gama d'eça</td>\n",
       "      <td>Centro, Florianópolis - SC</td>\n",
       "      <td>264m²</td>\n",
       "      <td>4</td>\n",
       "      <td>2</td>\n",
       "      <td>6</td>\n",
       "    </tr>\n",
       "    <tr>\n",
       "      <th>1526</th>\n",
       "      <td>ref: 446511</td>\n",
       "      <td>R$ 1.270.000</td>\n",
       "      <td>rodovia tertuliano brito xavier</td>\n",
       "      <td>Jurere Leste, Florianópolis - SC</td>\n",
       "      <td>186m²</td>\n",
       "      <td>3</td>\n",
       "      <td>2</td>\n",
       "      <td>6</td>\n",
       "    </tr>\n",
       "    <tr>\n",
       "      <th>1527</th>\n",
       "      <td>ref: 446534</td>\n",
       "      <td>R$ 730.000</td>\n",
       "      <td>rodovia joão paulo</td>\n",
       "      <td>João Paulo, Florianópolis - SC</td>\n",
       "      <td>76m²</td>\n",
       "      <td>2</td>\n",
       "      <td>1</td>\n",
       "      <td>3</td>\n",
       "    </tr>\n",
       "    <tr>\n",
       "      <th>1528</th>\n",
       "      <td>ref: 446564</td>\n",
       "      <td>R$ 850.000</td>\n",
       "      <td>rua pedro vieira vidal</td>\n",
       "      <td>Pantanal, Florianópolis - SC</td>\n",
       "      <td>139m²</td>\n",
       "      <td>3</td>\n",
       "      <td>2</td>\n",
       "      <td>6</td>\n",
       "    </tr>\n",
       "  </tbody>\n",
       "</table>\n",
       "<p>1529 rows × 8 columns</p>\n",
       "</div>"
      ],
      "text/plain": [
       "        reference         preco                                  endereco  \\\n",
       "0     ref: 472082    R$ 900.000                         rua dos golfinhos   \n",
       "1     ref: 468398    R$ 850.000                        rodovia joão paulo   \n",
       "2     ref: 468996  R$ 1.230.000  rua professor ayrton roberto de oliveira   \n",
       "3     ref: 465833  R$ 1.338.633                             rua das dunas   \n",
       "4     ref: 465834  R$ 1.401.049                             rua das dunas   \n",
       "...           ...           ...                                       ...   \n",
       "1524  ref: 446500    R$ 790.000            rua capitão romualdo de barros   \n",
       "1525  ref: 446510  R$ 2.300.000        avenida professor othon gama d'eça   \n",
       "1526  ref: 446511  R$ 1.270.000           rodovia tertuliano brito xavier   \n",
       "1527  ref: 446534    R$ 730.000                        rodovia joão paulo   \n",
       "1528  ref: 446564    R$ 850.000                    rua pedro vieira vidal   \n",
       "\n",
       "                                       localizacao metragem quartos garagens  \\\n",
       "0     Ingleses do Rio Vermelho, Florianópolis - SC     61m²       2        1   \n",
       "1                   João Paulo, Florianópolis - SC     68m²       2        1   \n",
       "2                    Itacorubi, Florianópolis - SC     89m²       3        1   \n",
       "3     Ingleses do Rio Vermelho, Florianópolis - SC    117m²       3        2   \n",
       "4     Ingleses do Rio Vermelho, Florianópolis - SC    125m²       3        2   \n",
       "...                                            ...      ...     ...      ...   \n",
       "1524           Saco dos limões, Florianópolis - SC     63m²       2        1   \n",
       "1525                    Centro, Florianópolis - SC    264m²       4        2   \n",
       "1526              Jurere Leste, Florianópolis - SC    186m²       3        2   \n",
       "1527                João Paulo, Florianópolis - SC     76m²       2        1   \n",
       "1528                  Pantanal, Florianópolis - SC    139m²       3        2   \n",
       "\n",
       "     banheiro  \n",
       "0           2  \n",
       "1           2  \n",
       "2           2  \n",
       "3           3  \n",
       "4           4  \n",
       "...       ...  \n",
       "1524        3  \n",
       "1525        6  \n",
       "1526        6  \n",
       "1527        3  \n",
       "1528        6  \n",
       "\n",
       "[1529 rows x 8 columns]"
      ]
     },
     "execution_count": 22,
     "metadata": {},
     "output_type": "execute_result"
    }
   ],
   "source": [
    "base_imoveis"
   ]
  },
  {
   "cell_type": "code",
   "execution_count": null,
   "metadata": {},
   "outputs": [],
   "source": []
  },
  {
   "cell_type": "code",
   "execution_count": null,
   "metadata": {},
   "outputs": [],
   "source": []
  },
  {
   "cell_type": "markdown",
   "metadata": {},
   "source": [
    "# Standardizing the strings\n"
   ]
  },
  {
   "cell_type": "code",
   "execution_count": 53,
   "metadata": {},
   "outputs": [],
   "source": [
    "base_imoveis = pd.read_excel('V3_base_imoveis_Sao_Paulo.xlsx').drop(columns = 'Unnamed: 0')"
   ]
  },
  {
   "cell_type": "code",
   "execution_count": 54,
   "metadata": {},
   "outputs": [
    {
     "data": {
      "text/html": [
       "<div>\n",
       "<style scoped>\n",
       "    .dataframe tbody tr th:only-of-type {\n",
       "        vertical-align: middle;\n",
       "    }\n",
       "\n",
       "    .dataframe tbody tr th {\n",
       "        vertical-align: top;\n",
       "    }\n",
       "\n",
       "    .dataframe thead th {\n",
       "        text-align: right;\n",
       "    }\n",
       "</style>\n",
       "<table border=\"1\" class=\"dataframe\">\n",
       "  <thead>\n",
       "    <tr style=\"text-align: right;\">\n",
       "      <th></th>\n",
       "      <th>Unnamed: 0.1</th>\n",
       "      <th>reference</th>\n",
       "      <th>preco</th>\n",
       "      <th>endereco</th>\n",
       "      <th>localizacao</th>\n",
       "      <th>metragem</th>\n",
       "      <th>quartos</th>\n",
       "      <th>garagens</th>\n",
       "      <th>banheiro</th>\n",
       "    </tr>\n",
       "  </thead>\n",
       "  <tbody>\n",
       "    <tr>\n",
       "      <th>0</th>\n",
       "      <td>0.0</td>\n",
       "      <td>ref: 1160319</td>\n",
       "      <td>R$ 225.000</td>\n",
       "      <td>rua das savelhas</td>\n",
       "      <td>Conjunto Residencial Sitio Oratório, São Paulo...</td>\n",
       "      <td>65m²</td>\n",
       "      <td>2.0</td>\n",
       "      <td>1.0</td>\n",
       "      <td>1</td>\n",
       "    </tr>\n",
       "    <tr>\n",
       "      <th>1</th>\n",
       "      <td>1.0</td>\n",
       "      <td>ref: 1161935</td>\n",
       "      <td>R$ 210.000</td>\n",
       "      <td>rua das savelhas</td>\n",
       "      <td>Conjunto Residencial Sitio Oratório, São Paulo...</td>\n",
       "      <td>55m²</td>\n",
       "      <td>2.0</td>\n",
       "      <td>NaN</td>\n",
       "      <td>1</td>\n",
       "    </tr>\n",
       "    <tr>\n",
       "      <th>2</th>\n",
       "      <td>2.0</td>\n",
       "      <td>ref: 1077734</td>\n",
       "      <td>R$ 695.000</td>\n",
       "      <td>rua campos vergueiro</td>\n",
       "      <td>Vila Anastácio, São Paulo - SP</td>\n",
       "      <td>59m²</td>\n",
       "      <td>1.0</td>\n",
       "      <td>1.0</td>\n",
       "      <td>2</td>\n",
       "    </tr>\n",
       "    <tr>\n",
       "      <th>3</th>\n",
       "      <td>3.0</td>\n",
       "      <td>ref: 1050264</td>\n",
       "      <td>R$ 639.000</td>\n",
       "      <td>rua salvador pires de lima</td>\n",
       "      <td>Sacomã, São Paulo - SP</td>\n",
       "      <td>64m²</td>\n",
       "      <td>2.0</td>\n",
       "      <td>1.0</td>\n",
       "      <td>2</td>\n",
       "    </tr>\n",
       "    <tr>\n",
       "      <th>4</th>\n",
       "      <td>4.0</td>\n",
       "      <td>ref: 25359</td>\n",
       "      <td>R$ 570.000</td>\n",
       "      <td>rua jose de oliveira coelho</td>\n",
       "      <td>Vila Andrade, São Paulo - SP</td>\n",
       "      <td>69m²</td>\n",
       "      <td>2.0</td>\n",
       "      <td>2.0</td>\n",
       "      <td>2</td>\n",
       "    </tr>\n",
       "    <tr>\n",
       "      <th>...</th>\n",
       "      <td>...</td>\n",
       "      <td>...</td>\n",
       "      <td>...</td>\n",
       "      <td>...</td>\n",
       "      <td>...</td>\n",
       "      <td>...</td>\n",
       "      <td>...</td>\n",
       "      <td>...</td>\n",
       "      <td>...</td>\n",
       "    </tr>\n",
       "    <tr>\n",
       "      <th>48325</th>\n",
       "      <td>NaN</td>\n",
       "      <td>ref: 1023914</td>\n",
       "      <td>R$ 320.000</td>\n",
       "      <td>rua afonso pena</td>\n",
       "      <td>Bom Retiro, São Paulo - SP</td>\n",
       "      <td>43m²</td>\n",
       "      <td>2.0</td>\n",
       "      <td>NaN</td>\n",
       "      <td>1</td>\n",
       "    </tr>\n",
       "    <tr>\n",
       "      <th>48326</th>\n",
       "      <td>NaN</td>\n",
       "      <td>ref: 1024188</td>\n",
       "      <td>R$ 400.000</td>\n",
       "      <td>rua vinte e cinco de janeiro</td>\n",
       "      <td>Bom Retiro, São Paulo - SP</td>\n",
       "      <td>47m²</td>\n",
       "      <td>2.0</td>\n",
       "      <td>1.0</td>\n",
       "      <td>1</td>\n",
       "    </tr>\n",
       "    <tr>\n",
       "      <th>48327</th>\n",
       "      <td>NaN</td>\n",
       "      <td>ref: 1024191</td>\n",
       "      <td>R$ 376.363</td>\n",
       "      <td>rua newton prado</td>\n",
       "      <td>Bom Retiro, São Paulo - SP</td>\n",
       "      <td>90m²</td>\n",
       "      <td>2.0</td>\n",
       "      <td>NaN</td>\n",
       "      <td>1</td>\n",
       "    </tr>\n",
       "    <tr>\n",
       "      <th>48328</th>\n",
       "      <td>NaN</td>\n",
       "      <td>ref: 1024201</td>\n",
       "      <td>R$ 370.000</td>\n",
       "      <td>avenida tiradentes</td>\n",
       "      <td>Bom Retiro, São Paulo - SP</td>\n",
       "      <td>58m²</td>\n",
       "      <td>2.0</td>\n",
       "      <td>1.0</td>\n",
       "      <td>1</td>\n",
       "    </tr>\n",
       "    <tr>\n",
       "      <th>48329</th>\n",
       "      <td>NaN</td>\n",
       "      <td>ref: 1024203</td>\n",
       "      <td>R$ 399.000</td>\n",
       "      <td>rua newton prado</td>\n",
       "      <td>Bom Retiro, São Paulo - SP</td>\n",
       "      <td>100m²</td>\n",
       "      <td>3.0</td>\n",
       "      <td>NaN</td>\n",
       "      <td>2</td>\n",
       "    </tr>\n",
       "  </tbody>\n",
       "</table>\n",
       "<p>48330 rows × 9 columns</p>\n",
       "</div>"
      ],
      "text/plain": [
       "       Unnamed: 0.1     reference       preco                      endereco  \\\n",
       "0               0.0  ref: 1160319  R$ 225.000              rua das savelhas   \n",
       "1               1.0  ref: 1161935  R$ 210.000              rua das savelhas   \n",
       "2               2.0  ref: 1077734  R$ 695.000          rua campos vergueiro   \n",
       "3               3.0  ref: 1050264  R$ 639.000    rua salvador pires de lima   \n",
       "4               4.0    ref: 25359  R$ 570.000   rua jose de oliveira coelho   \n",
       "...             ...           ...         ...                           ...   \n",
       "48325           NaN  ref: 1023914  R$ 320.000               rua afonso pena   \n",
       "48326           NaN  ref: 1024188  R$ 400.000  rua vinte e cinco de janeiro   \n",
       "48327           NaN  ref: 1024191  R$ 376.363              rua newton prado   \n",
       "48328           NaN  ref: 1024201  R$ 370.000            avenida tiradentes   \n",
       "48329           NaN  ref: 1024203  R$ 399.000              rua newton prado   \n",
       "\n",
       "                                             localizacao metragem  quartos  \\\n",
       "0      Conjunto Residencial Sitio Oratório, São Paulo...     65m²      2.0   \n",
       "1      Conjunto Residencial Sitio Oratório, São Paulo...     55m²      2.0   \n",
       "2                         Vila Anastácio, São Paulo - SP     59m²      1.0   \n",
       "3                                 Sacomã, São Paulo - SP     64m²      2.0   \n",
       "4                           Vila Andrade, São Paulo - SP     69m²      2.0   \n",
       "...                                                  ...      ...      ...   \n",
       "48325                         Bom Retiro, São Paulo - SP     43m²      2.0   \n",
       "48326                         Bom Retiro, São Paulo - SP     47m²      2.0   \n",
       "48327                         Bom Retiro, São Paulo - SP     90m²      2.0   \n",
       "48328                         Bom Retiro, São Paulo - SP     58m²      2.0   \n",
       "48329                         Bom Retiro, São Paulo - SP    100m²      3.0   \n",
       "\n",
       "       garagens  banheiro  \n",
       "0           1.0         1  \n",
       "1           NaN         1  \n",
       "2           1.0         2  \n",
       "3           1.0         2  \n",
       "4           2.0         2  \n",
       "...         ...       ...  \n",
       "48325       NaN         1  \n",
       "48326       1.0         1  \n",
       "48327       NaN         1  \n",
       "48328       1.0         1  \n",
       "48329       NaN         2  \n",
       "\n",
       "[48330 rows x 9 columns]"
      ]
     },
     "execution_count": 54,
     "metadata": {},
     "output_type": "execute_result"
    }
   ],
   "source": [
    "base_imoveis"
   ]
  },
  {
   "cell_type": "code",
   "execution_count": 35,
   "metadata": {},
   "outputs": [
    {
     "name": "stdout",
     "output_type": "stream",
     "text": [
      "Ola, como esta voce?\n"
     ]
    }
   ],
   "source": [
    "import unicodedata\n",
    "\n",
    "def remover_acentos(texto):\n",
    "    texto_sem_acentos = ''.join(\n",
    "        (c for c in unicodedata.normalize('NFD', texto) if unicodedata.category(c) != 'Mn')\n",
    "    )\n",
    "    return texto_sem_acentos"
   ]
  },
  {
   "cell_type": "code",
   "execution_count": 55,
   "metadata": {},
   "outputs": [],
   "source": [
    "base_imoveis_aux = base_imoveis"
   ]
  },
  {
   "cell_type": "code",
   "execution_count": 56,
   "metadata": {},
   "outputs": [
    {
     "data": {
      "text/plain": [
       "'Conjunto Residencial Sitio Oratório, São Paulo - SP'"
      ]
     },
     "execution_count": 56,
     "metadata": {},
     "output_type": "execute_result"
    }
   ],
   "source": [
    "base_imoveis_aux['localizacao'][0]"
   ]
  },
  {
   "cell_type": "code",
   "execution_count": 57,
   "metadata": {},
   "outputs": [
    {
     "name": "stderr",
     "output_type": "stream",
     "text": [
      "C:\\Users\\loren\\AppData\\Local\\Temp\\ipykernel_2092\\1833175048.py:3: SettingWithCopyWarning: \n",
      "A value is trying to be set on a copy of a slice from a DataFrame\n",
      "\n",
      "See the caveats in the documentation: https://pandas.pydata.org/pandas-docs/stable/user_guide/indexing.html#returning-a-view-versus-a-copy\n",
      "  base_imoveis_aux['endereco'][index] = sem_acento\n"
     ]
    }
   ],
   "source": [
    "for index,i in enumerate(base_imoveis_aux['endereco']):\n",
    "    sem_acento = remover_acentos(i)\n",
    "    base_imoveis_aux['endereco'][index] = sem_acento"
   ]
  },
  {
   "cell_type": "code",
   "execution_count": 58,
   "metadata": {},
   "outputs": [
    {
     "name": "stderr",
     "output_type": "stream",
     "text": [
      "C:\\Users\\loren\\AppData\\Local\\Temp\\ipykernel_2092\\7421034.py:3: SettingWithCopyWarning: \n",
      "A value is trying to be set on a copy of a slice from a DataFrame\n",
      "\n",
      "See the caveats in the documentation: https://pandas.pydata.org/pandas-docs/stable/user_guide/indexing.html#returning-a-view-versus-a-copy\n",
      "  base_imoveis_aux['localizacao'][index] = sem_acento\n"
     ]
    }
   ],
   "source": [
    "for index,i in enumerate(base_imoveis_aux['localizacao']):\n",
    "    sem_acento = remover_acentos(i)\n",
    "    base_imoveis_aux['localizacao'][index] = sem_acento"
   ]
  },
  {
   "cell_type": "code",
   "execution_count": 59,
   "metadata": {},
   "outputs": [
    {
     "data": {
      "text/plain": [
       "'Conjunto Residencial Sitio Oratorio, Sao Paulo - SP'"
      ]
     },
     "execution_count": 59,
     "metadata": {},
     "output_type": "execute_result"
    }
   ],
   "source": [
    "base_imoveis_aux['localizacao'][0]"
   ]
  },
  {
   "cell_type": "markdown",
   "metadata": {},
   "source": [
    "# Removing duplicates"
   ]
  },
  {
   "cell_type": "code",
   "execution_count": 60,
   "metadata": {},
   "outputs": [
    {
     "data": {
      "text/plain": [
       "(48330, 9)"
      ]
     },
     "execution_count": 60,
     "metadata": {},
     "output_type": "execute_result"
    }
   ],
   "source": [
    "base_imoveis_aux.shape"
   ]
  },
  {
   "cell_type": "code",
   "execution_count": 61,
   "metadata": {},
   "outputs": [
    {
     "data": {
      "text/plain": [
       "2370"
      ]
     },
     "execution_count": 61,
     "metadata": {},
     "output_type": "execute_result"
    }
   ],
   "source": [
    "base_imoveis.duplicated().sum()"
   ]
  },
  {
   "cell_type": "code",
   "execution_count": 62,
   "metadata": {},
   "outputs": [],
   "source": [
    "\n",
    "base_imoveis_aux = base_imoveis_aux.drop_duplicates()"
   ]
  },
  {
   "cell_type": "code",
   "execution_count": 63,
   "metadata": {},
   "outputs": [
    {
     "data": {
      "text/plain": [
       "(45960, 9)"
      ]
     },
     "execution_count": 63,
     "metadata": {},
     "output_type": "execute_result"
    }
   ],
   "source": [
    "base_imoveis_aux.shape"
   ]
  },
  {
   "cell_type": "markdown",
   "metadata": {},
   "source": [
    "# Salvando em formato CSV e excel"
   ]
  },
  {
   "cell_type": "code",
   "execution_count": 64,
   "metadata": {},
   "outputs": [],
   "source": [
    "base_imoveis_aux.to_excel('V3_base_imoveis_Sao_Paulo_sem_acento.xlsx',index = True)"
   ]
  },
  {
   "cell_type": "code",
   "execution_count": 65,
   "metadata": {},
   "outputs": [],
   "source": [
    "base_imoveis_aux.to_csv('V3_base_imoveis_Sao_Paulo_sem_acento.csv',index = True)"
   ]
  },
  {
   "cell_type": "code",
   "execution_count": null,
   "metadata": {},
   "outputs": [],
   "source": []
  },
  {
   "cell_type": "markdown",
   "metadata": {
    "jp-MarkdownHeadingCollapsed": true,
    "tags": []
   },
   "source": [
    "# Criando função que captura o IPTU e condomínio de cada apartamento"
   ]
  },
  {
   "cell_type": "code",
   "execution_count": null,
   "metadata": {},
   "outputs": [],
   "source": [
    "# referencia\n"
   ]
  },
  {
   "cell_type": "code",
   "execution_count": null,
   "metadata": {},
   "outputs": [],
   "source": []
  },
  {
   "cell_type": "code",
   "execution_count": null,
   "metadata": {},
   "outputs": [],
   "source": []
  },
  {
   "cell_type": "code",
   "execution_count": null,
   "metadata": {},
   "outputs": [],
   "source": [
    "def other_infos(base_imoveis):\n",
    "        \n",
    "        try:\n",
    "            reference = soup.find('div',{'class':'ref'}\n",
    "            ).text.strip()\n",
    "        except:\n",
    "            reference = None\n",
    "        \n",
    "        try:\n",
    "            condominio = soup.find(\n",
    "                            'span', {'class': 'fontSize16 bold green'}\n",
    "            ).text.strip()\n",
    "        except:\n",
    "            condominio = None\n",
    "        #print(descricao.text.strip())\n",
    "\n",
    "        try:\n",
    "            iptu =  soup.find(\n",
    "                            'div', {'class': 'RuaContainer'}\n",
    "            ).text.strip()\n",
    "        except:\n",
    "            iptu = None\n",
    "     \n",
    "        nova_linha = {'reference':reference,'condominio':condominio,'IPTU':iptu}\n",
    "        ## Adicionando a nova linha ao DataFrame\n",
    "        base_imoveis = base_imoveis.append(nova_linha, ignore_index=True)\n",
    "    return base_imoveis"
   ]
  },
  {
   "cell_type": "code",
   "execution_count": null,
   "metadata": {},
   "outputs": [],
   "source": []
  },
  {
   "cell_type": "code",
   "execution_count": null,
   "metadata": {},
   "outputs": [],
   "source": []
  },
  {
   "cell_type": "code",
   "execution_count": null,
   "metadata": {},
   "outputs": [],
   "source": []
  },
  {
   "cell_type": "code",
   "execution_count": 276,
   "metadata": {},
   "outputs": [],
   "source": [
    "resposta = requests.get('https://www.auxiliadorapredial.com.br/imovel/venda/258334',headers=headers)"
   ]
  },
  {
   "cell_type": "code",
   "execution_count": 124,
   "metadata": {},
   "outputs": [],
   "source": [
    "soup = bs(resposta.text, 'html.parser')"
   ]
  },
  {
   "cell_type": "code",
   "execution_count": 277,
   "metadata": {},
   "outputs": [
    {
     "name": "stdout",
     "output_type": "stream",
     "text": [
      "\n",
      "Elemento encontrado na camada 5 (Caminho:  1 ->2 ->1 ->57->1:\n",
      "<span class=\"MuiTypography-root MuiTypography-caption css-128iows\">© Auxiliadora Predial Ltda. Todos direitos reservados. CRECI RS - J43 | CRECI SP - J21663 | Política de privacidade</span>\n"
     ]
    }
   ],
   "source": [
    "# Encontrar todos os elementos <div> da camada 1 com classe específica\n",
    "camada_1 = soup.select('div', class_='MuiGrid-root MuiGrid-container MuiGrid-spacing-xs-10 css-12ikp2y')\n",
    "elementos_not_find_1 = []\n",
    "\n",
    "# Iterar sobre os elementos encontrados na camada 1\n",
    "for idx_camada_1, element_camada_1 in enumerate(camada_1):\n",
    "    # Encontrar os elementos <div> da camada 2 dentro de cada elemento da camada 1\n",
    "    camada_2 = element_camada_1.select('div', class_='MuiGrid-root MuiGrid-item MuiGrid-grid-md-6 css-shiley')\n",
    "    \n",
    "    # Iterar sobre os elementos encontrados na camada 2 dentro deste elemento da camada 1\n",
    "    for idx_camada_2, element_camada_2 in enumerate(camada_2):\n",
    "        # Encontrar os elementos <div> da camada 3 dentro de cada elemento da camada 2\n",
    "        camada_3 = element_camada_2.select('div', class_='MuiBox-root css-3vcsli')\n",
    "        \n",
    "        # Iterar sobre os elementos encontrados na camada 3 dentro deste elemento da camada 2\n",
    "        for idx_camada_3, element_camada_3 in enumerate(camada_3):\n",
    "            # Encontrar os elementos <div> da camada 4 dentro de cada elemento da camada 3\n",
    "            camada_4 = element_camada_3.select('div', class_='MuiBox-root css-1bajd3f')\n",
    "            \n",
    "            # Verificar se há elementos na camada 4\n",
    "            for idx_camada_4, element_camada_4 in enumerate(camada_4):\n",
    "                camada_5 = element_camada_4.find_all('span')\n",
    "                \n",
    "                if camada_5:\n",
    "                    # Iterar sobre os elementos encontrados na camada 4 dentro deste elemento da camada 3\n",
    "                    for idx_camada_5, element_camada_5 in enumerate(camada_5):\n",
    "                        # Imprimir o elemento encontrado na camada 4 juntamente com seu índice\n",
    "                        \n",
    "                        print(f\"\\nElemento encontrado na camada 5 (Caminho:  {idx_camada_1+1} ->{idx_camada_2+1} ->{idx_camada_3+1} ->{idx_camada_4+1}->{idx_camada_5+1}:\")\n",
    "                        print(element_camada_5)\n",
    "                else:\n",
    "                    #print(\"Nenhum elemento encontrado na camada 5 para este elemento da camada 4.\")\n",
    "                    pass\n",
    "        # Verificar se há elementos na camada 3\n",
    "        if not camada_3:\n",
    "            #print(\"Nenhum elemento encontrado na camada 3 para este elemento da camada 2.\")\n",
    "            pass\n",
    "    # Verificar se há elementos na camada 2\n",
    "    if not camada_2:\n",
    "        #print(\"Nenhum elemento encontrado na camada 2 para este elemento da camada 1.\")\n",
    "        pass"
   ]
  },
  {
   "cell_type": "markdown",
   "metadata": {},
   "source": [
    "## Executando o código"
   ]
  },
  {
   "cell_type": "code",
   "execution_count": null,
   "metadata": {},
   "outputs": [],
   "source": []
  },
  {
   "cell_type": "code",
   "execution_count": null,
   "metadata": {
    "tags": []
   },
   "outputs": [],
   "source": [
    "    for i in list_reference:\n",
    "        url = f'https://www.auxiliadorapredial.com.br/imovel/venda/{i}'\n",
    "\n",
    "    # Criar uma nova sessão para cada solicitação\n",
    "        with requests.Session() as session:\n",
    "            # Defina o cabeçalho User-Agent na solicitação\n",
    "            headers = {\n",
    "                \"User-Agent\": user_agent\n",
    "            } \n",
    "\n",
    "            \n",
    "            \n",
    "            attempts = 0\n",
    "            while attempts < 5:\n",
    "                # Tentar fazer a solicitação\n",
    "                try:\n",
    "                    resposta = session.get(url, headers=headers)\n",
    "                    resposta.raise_for_status()  # Lança uma exceção se a resposta for um erro HTTP\n",
    "                    break\n",
    "                    \n",
    "                    \n",
    "                except (requests.RequestException, ConnectionError) as e:\n",
    "                    print(f'Erro na requisição de acesso a página {i}: {e}')\n",
    "                    attempts +=1\n",
    "                    #time.sleep(3)  # Aguarde 5 segundos antes de tentar novamente\n",
    "                    driver.implicitly_wait(2)\n",
    "                    #continue  # Pule para a próxima iteração do loop\n",
    "                    \n",
    "                    \n",
    "                    \n",
    "        if resposta.status_code == 200:\n",
    "            #soup = bs(resposta.text)\n",
    "            soup = bs(resposta.text, 'html.parser')\n",
    "                    \n",
    "            base_imoveis = other_infos(base_imoveis)\n",
    "            print(f'Página {i} processada.\\n')\n",
    "            \n",
    "            \n",
    "            \n",
    "            \n",
    "        else:\n",
    "             print(f'Erro ao acessar a página {i}: \\n{resposta.status_code}')\n",
    "                \n",
    "                \n",
    "                \n",
    "    #next_page = number_pages.find_element('xpath','//*[@id=\"contentSide\"]/div[4]/nav/ul/li[9]/button').click()\n",
    "    #print(url)"
   ]
  }
 ],
 "metadata": {
  "kernelspec": {
   "display_name": "Python 3 (ipykernel)",
   "language": "python",
   "name": "python3"
  },
  "language_info": {
   "codemirror_mode": {
    "name": "ipython",
    "version": 3
   },
   "file_extension": ".py",
   "mimetype": "text/x-python",
   "name": "python",
   "nbconvert_exporter": "python",
   "pygments_lexer": "ipython3",
   "version": "3.8.3"
  },
  "vscode": {
   "interpreter": {
    "hash": "6f8983813013631f1bdc2baa7d9e3c3a7e2e51668621058d09fb47df53089eab"
   }
  }
 },
 "nbformat": 4,
 "nbformat_minor": 4
}
